{
  "nbformat": 4,
  "nbformat_minor": 0,
  "metadata": {
    "colab": {
      "name": "Tupro3AI.ipynb",
      "provenance": [],
      "collapsed_sections": []
    },
    "kernelspec": {
      "name": "python3",
      "display_name": "Python 3"
    }
  },
  "cells": [
    {
      "cell_type": "code",
      "metadata": {
        "id": "Q8PSLsKvLajR"
      },
      "source": [
        "import numpy as np\r\n",
        "import pandas as pd\r\n",
        "import matplotlib.pyplot as plt\r\n",
        "from math import *\r\n",
        "from decimal import Decimal \r\n",
        "from sklearn import preprocessing"
      ],
      "execution_count": 14,
      "outputs": []
    },
    {
      "cell_type": "markdown",
      "metadata": {
        "id": "Qf4YWnWnMAVI"
      },
      "source": [
        "upload file"
      ]
    },
    {
      "cell_type": "code",
      "metadata": {
        "colab": {
          "base_uri": "https://localhost:8080/"
        },
        "id": "_OiNTd-fMABX",
        "outputId": "df93031f-9995-4d6c-e50b-06b8da1a1119"
      },
      "source": [
        "from google.colab import drive\r\n",
        "drive.mount('/content/drive')\r\n",
        "df= pd.read_csv('/content/drive/MyDrive/Diabetes.csv')"
      ],
      "execution_count": 15,
      "outputs": [
        {
          "output_type": "stream",
          "text": [
            "Drive already mounted at /content/drive; to attempt to forcibly remount, call drive.mount(\"/content/drive\", force_remount=True).\n"
          ],
          "name": "stdout"
        }
      ]
    },
    {
      "cell_type": "code",
      "metadata": {
        "id": "mERY-lDbTGKX"
      },
      "source": [
        "x = df.iloc[:,:-1].values\r\n",
        "y = df.iloc[:,-1].values\r\n"
      ],
      "execution_count": 16,
      "outputs": []
    },
    {
      "cell_type": "code",
      "metadata": {
        "id": "DgwbDFWhoUSp"
      },
      "source": [
        ""
      ],
      "execution_count": 16,
      "outputs": []
    },
    {
      "cell_type": "markdown",
      "metadata": {
        "id": "EU1XPFpHM0qF"
      },
      "source": [
        "preprocessing"
      ]
    },
    {
      "cell_type": "code",
      "metadata": {
        "id": "n_L2zsLPMy4Y"
      },
      "source": [
        "x = pd.DataFrame(x)\r\n",
        "y = pd.DataFrame(y)\r\n",
        "x = x.replace(0, np.NaN)\r\n",
        "x.fillna(x.mean(),inplace=True)\r\n",
        "\r\n",
        "# x = pd.DataFrame(x)\r\n",
        "# y = pd.DataFrame(y)\r\n",
        "# x = x.replace(0, np.NaN)\r\n",
        "# x.fillna(x.median(),inplace=True)\r\n",
        "\r\n",
        "min_max_scaler = preprocessing.MinMaxScaler()\r\n",
        "x_scaled = min_max_scaler.fit_transform(x)\r\n",
        "x = pd.DataFrame(x_scaled)"
      ],
      "execution_count": 17,
      "outputs": []
    },
    {
      "cell_type": "code",
      "metadata": {
        "colab": {
          "base_uri": "https://localhost:8080/",
          "height": 415
        },
        "id": "UaMLIVgnoWJ5",
        "outputId": "51a80ee4-338f-411f-a384-bffbaf540a6f"
      },
      "source": [
        "x"
      ],
      "execution_count": 18,
      "outputs": [
        {
          "output_type": "execute_result",
          "data": {
            "text/html": [
              "<div>\n",
              "<style scoped>\n",
              "    .dataframe tbody tr th:only-of-type {\n",
              "        vertical-align: middle;\n",
              "    }\n",
              "\n",
              "    .dataframe tbody tr th {\n",
              "        vertical-align: top;\n",
              "    }\n",
              "\n",
              "    .dataframe thead th {\n",
              "        text-align: right;\n",
              "    }\n",
              "</style>\n",
              "<table border=\"1\" class=\"dataframe\">\n",
              "  <thead>\n",
              "    <tr style=\"text-align: right;\">\n",
              "      <th></th>\n",
              "      <th>0</th>\n",
              "      <th>1</th>\n",
              "      <th>2</th>\n",
              "      <th>3</th>\n",
              "      <th>4</th>\n",
              "      <th>5</th>\n",
              "      <th>6</th>\n",
              "      <th>7</th>\n",
              "    </tr>\n",
              "  </thead>\n",
              "  <tbody>\n",
              "    <tr>\n",
              "      <th>0</th>\n",
              "      <td>0.312500</td>\n",
              "      <td>0.670968</td>\n",
              "      <td>0.489796</td>\n",
              "      <td>0.304348</td>\n",
              "      <td>0.170130</td>\n",
              "      <td>0.314928</td>\n",
              "      <td>0.234415</td>\n",
              "      <td>0.483333</td>\n",
              "    </tr>\n",
              "    <tr>\n",
              "      <th>1</th>\n",
              "      <td>0.000000</td>\n",
              "      <td>0.264516</td>\n",
              "      <td>0.428571</td>\n",
              "      <td>0.239130</td>\n",
              "      <td>0.170130</td>\n",
              "      <td>0.171779</td>\n",
              "      <td>0.116567</td>\n",
              "      <td>0.166667</td>\n",
              "    </tr>\n",
              "    <tr>\n",
              "      <th>2</th>\n",
              "      <td>0.437500</td>\n",
              "      <td>0.896774</td>\n",
              "      <td>0.408163</td>\n",
              "      <td>0.240798</td>\n",
              "      <td>0.170130</td>\n",
              "      <td>0.104294</td>\n",
              "      <td>0.253629</td>\n",
              "      <td>0.183333</td>\n",
              "    </tr>\n",
              "    <tr>\n",
              "      <th>3</th>\n",
              "      <td>0.000000</td>\n",
              "      <td>0.290323</td>\n",
              "      <td>0.428571</td>\n",
              "      <td>0.173913</td>\n",
              "      <td>0.096154</td>\n",
              "      <td>0.202454</td>\n",
              "      <td>0.038002</td>\n",
              "      <td>0.000000</td>\n",
              "    </tr>\n",
              "    <tr>\n",
              "      <th>4</th>\n",
              "      <td>0.218417</td>\n",
              "      <td>0.600000</td>\n",
              "      <td>0.163265</td>\n",
              "      <td>0.304348</td>\n",
              "      <td>0.185096</td>\n",
              "      <td>0.509202</td>\n",
              "      <td>0.943638</td>\n",
              "      <td>0.200000</td>\n",
              "    </tr>\n",
              "    <tr>\n",
              "      <th>...</th>\n",
              "      <td>...</td>\n",
              "      <td>...</td>\n",
              "      <td>...</td>\n",
              "      <td>...</td>\n",
              "      <td>...</td>\n",
              "      <td>...</td>\n",
              "      <td>...</td>\n",
              "      <td>...</td>\n",
              "    </tr>\n",
              "    <tr>\n",
              "      <th>763</th>\n",
              "      <td>0.562500</td>\n",
              "      <td>0.367742</td>\n",
              "      <td>0.530612</td>\n",
              "      <td>0.445652</td>\n",
              "      <td>0.199519</td>\n",
              "      <td>0.300613</td>\n",
              "      <td>0.039710</td>\n",
              "      <td>0.700000</td>\n",
              "    </tr>\n",
              "    <tr>\n",
              "      <th>764</th>\n",
              "      <td>0.062500</td>\n",
              "      <td>0.503226</td>\n",
              "      <td>0.469388</td>\n",
              "      <td>0.217391</td>\n",
              "      <td>0.170130</td>\n",
              "      <td>0.380368</td>\n",
              "      <td>0.111870</td>\n",
              "      <td>0.100000</td>\n",
              "    </tr>\n",
              "    <tr>\n",
              "      <th>765</th>\n",
              "      <td>0.250000</td>\n",
              "      <td>0.496774</td>\n",
              "      <td>0.489796</td>\n",
              "      <td>0.173913</td>\n",
              "      <td>0.117788</td>\n",
              "      <td>0.163599</td>\n",
              "      <td>0.071307</td>\n",
              "      <td>0.150000</td>\n",
              "    </tr>\n",
              "    <tr>\n",
              "      <th>766</th>\n",
              "      <td>0.000000</td>\n",
              "      <td>0.529032</td>\n",
              "      <td>0.367347</td>\n",
              "      <td>0.240798</td>\n",
              "      <td>0.170130</td>\n",
              "      <td>0.243354</td>\n",
              "      <td>0.115713</td>\n",
              "      <td>0.433333</td>\n",
              "    </tr>\n",
              "    <tr>\n",
              "      <th>767</th>\n",
              "      <td>0.000000</td>\n",
              "      <td>0.316129</td>\n",
              "      <td>0.469388</td>\n",
              "      <td>0.260870</td>\n",
              "      <td>0.170130</td>\n",
              "      <td>0.249489</td>\n",
              "      <td>0.101196</td>\n",
              "      <td>0.033333</td>\n",
              "    </tr>\n",
              "  </tbody>\n",
              "</table>\n",
              "<p>768 rows × 8 columns</p>\n",
              "</div>"
            ],
            "text/plain": [
              "            0         1         2  ...         5         6         7\n",
              "0    0.312500  0.670968  0.489796  ...  0.314928  0.234415  0.483333\n",
              "1    0.000000  0.264516  0.428571  ...  0.171779  0.116567  0.166667\n",
              "2    0.437500  0.896774  0.408163  ...  0.104294  0.253629  0.183333\n",
              "3    0.000000  0.290323  0.428571  ...  0.202454  0.038002  0.000000\n",
              "4    0.218417  0.600000  0.163265  ...  0.509202  0.943638  0.200000\n",
              "..        ...       ...       ...  ...       ...       ...       ...\n",
              "763  0.562500  0.367742  0.530612  ...  0.300613  0.039710  0.700000\n",
              "764  0.062500  0.503226  0.469388  ...  0.380368  0.111870  0.100000\n",
              "765  0.250000  0.496774  0.489796  ...  0.163599  0.071307  0.150000\n",
              "766  0.000000  0.529032  0.367347  ...  0.243354  0.115713  0.433333\n",
              "767  0.000000  0.316129  0.469388  ...  0.249489  0.101196  0.033333\n",
              "\n",
              "[768 rows x 8 columns]"
            ]
          },
          "metadata": {
            "tags": []
          },
          "execution_count": 18
        }
      ]
    },
    {
      "cell_type": "markdown",
      "metadata": {
        "id": "KsX4UZp4cPSB"
      },
      "source": [
        "Perhitungan Jarak"
      ]
    },
    {
      "cell_type": "code",
      "metadata": {
        "id": "gpMgwyOFV0s9"
      },
      "source": [
        "#eucliden\r\n",
        "def eucliden(x,y):\r\n",
        "  return np.sqrt(np.sum((x-y)**2))\r\n",
        "#manhattan\r\n",
        "def manhattan(x,y):\r\n",
        "  return np.sum(abs(x-y))\r\n",
        "#minkowski  \r\n",
        "def p_root(value, root): \r\n",
        "    root_value = 1 / float(root) \r\n",
        "    return round (Decimal(value) **\r\n",
        "             Decimal(root_value), 3)\r\n",
        "def minkowski(x, y, p_value): \r\n",
        "    return (p_root(sum(pow(abs(a-b), p_value) \r\n",
        "            for a, b in zip(x, y)), p_value)) "
      ],
      "execution_count": 19,
      "outputs": []
    },
    {
      "cell_type": "markdown",
      "metadata": {
        "id": "2Kl3BviEg-xf"
      },
      "source": [
        "split data"
      ]
    },
    {
      "cell_type": "code",
      "metadata": {
        "id": "nSSsp5BIg9Vq"
      },
      "source": [
        "def perhitungantraining(trainx,trainy,k):\r\n",
        "  kelas = []\r\n",
        "  for i in range(len(trainx)):\r\n",
        "    a = trainx.iloc[i].values\r\n",
        "    hitung = []\r\n",
        "    for j in range(len(trainx)):\r\n",
        "        b = trainx.iloc[j].values\r\n",
        "        if manhattan(a,b) != 0:\r\n",
        "          hitung.append([manhattan(a,b),trainy.iloc[j].values])\r\n",
        "    setelahurut = sorted(hitung)[:k]\r\n",
        "    m = 0\r\n",
        "    n = 0\r\n",
        "    for j in setelahurut:\r\n",
        "      if j[1][0] == 1:\r\n",
        "        m+=1\r\n",
        "      else:\r\n",
        "        n+=1\r\n",
        "    if m>n:\r\n",
        "      kelas.append(1)\r\n",
        "    else:\r\n",
        "      kelas.append(0)\r\n",
        "  return kelas"
      ],
      "execution_count": 20,
      "outputs": []
    },
    {
      "cell_type": "code",
      "metadata": {
        "id": "K_fnPhbirhpm"
      },
      "source": [
        "def perhitungantesting(trainx,trainy,testx,k):\r\n",
        "  kelas = []\r\n",
        "  for i in range(len(testx)):\r\n",
        "    a = testx.iloc[i].values\r\n",
        "    hitung = []\r\n",
        "    for j in range(len(trainx)):\r\n",
        "        b = trainx.iloc[j].values\r\n",
        "        hitung.append([manhattan(a,b),trainy.iloc[j].values])\r\n",
        "    setelahurut = sorted(hitung)[:k]\r\n",
        "    m = 0\r\n",
        "    n = 0\r\n",
        "    for j in setelahurut:\r\n",
        "      if j[1][0] == 1:\r\n",
        "        m+=1\r\n",
        "      else:\r\n",
        "        n+=1\r\n",
        "    if m>n:\r\n",
        "      kelas.append(1)\r\n",
        "    else:\r\n",
        "      kelas.append(0)\r\n",
        "  return kelas"
      ],
      "execution_count": 21,
      "outputs": []
    },
    {
      "cell_type": "code",
      "metadata": {
        "id": "Hn5lmr4Muflc"
      },
      "source": [
        "def akurasi(prediksi,asli):\r\n",
        "  sama = 0\r\n",
        "  for i in range(len(prediksi)):\r\n",
        "    if prediksi[i] == asli.iloc[i].values:\r\n",
        "      sama+=1\r\n",
        "  return sama/len(prediksi)*100"
      ],
      "execution_count": 22,
      "outputs": []
    },
    {
      "cell_type": "code",
      "metadata": {
        "id": "ghJzyo7hVMuN"
      },
      "source": [
        "def main(k):\r\n",
        "  subset_size = round(len(x)/5)\r\n",
        "  akurasitrain = []\r\n",
        "  akurasitest = []\r\n",
        "  for i in range(5):\r\n",
        "    if i == 4:\r\n",
        "      trainingx = x.iloc[0:(i*subset_size)-2]\r\n",
        "      testingx = x.iloc[(i*subset_size)-2:]\r\n",
        "      trainingy = y.iloc[0:(i*subset_size)-2]\r\n",
        "      testingy = y.iloc[(i*subset_size)-2:]\r\n",
        "    else:\r\n",
        "      trainingx = pd.concat([x.iloc[0:(i*subset_size)],x.iloc[(i*subset_size)+subset_size:]])\r\n",
        "      testingx = x.iloc[i*subset_size:(i*subset_size)+subset_size]\r\n",
        "      trainingy = pd.concat([y.iloc[0:(i*subset_size)],y.iloc[(i*subset_size)+subset_size:]])\r\n",
        "      testingy = y.iloc[i*subset_size:(i*subset_size)+subset_size]\r\n",
        "    # a = perhitungantraining(trainingx,trainingy,k)\r\n",
        "    b = perhitungantesting(trainingx,trainingy,testingx,k)\r\n",
        "    # print(akurasi(a,trainingy))\r\n",
        "    # print(akurasi(b,testingy))\r\n",
        "    # akurasitrain.append(akurasi(a, trainingy))\r\n",
        "    akurasitest.append(akurasi(b, testingy))\r\n",
        "  # print('======')\r\n",
        "  # print('rata-rata')\r\n",
        "  # ratatrain = np.average(akurasitrain)\r\n",
        "  ratatest = np.average(akurasitest)\r\n",
        "  # print(ratatrain)\r\n",
        "  # print(ratatest)\r\n",
        "  return ratatest\r\n",
        "\r\n",
        "  # print(trainingx)\r\n",
        "  # print('============================')\r\n",
        "  # print(testingx)\r\n",
        "  # print('++++++++++++++++++++++++++++')\r\n",
        "\r\n",
        "# main(11)\r\n",
        "# main(15)\r\n"
      ],
      "execution_count": 23,
      "outputs": []
    },
    {
      "cell_type": "code",
      "metadata": {
        "colab": {
          "base_uri": "https://localhost:8080/"
        },
        "id": "457ngK0kOhpn",
        "outputId": "b2ecaca2-814c-44af-f5a6-f937ab99117f"
      },
      "source": [
        "n = 3\r\n",
        "print('manhattan')\r\n",
        "for i in range(9):\r\n",
        "  print('rata-rata akurasi dengan k-',n,':', main(n))\r\n",
        "  n+=2"
      ],
      "execution_count": null,
      "outputs": [
        {
          "output_type": "stream",
          "text": [
            "manhattan\n",
            "rata-rata akurasi dengan k- 3 : 74.15584415584416\n",
            "rata-rata akurasi dengan k- 5 : 74.15584415584415\n"
          ],
          "name": "stdout"
        }
      ]
    },
    {
      "cell_type": "markdown",
      "metadata": {
        "id": "yxgYRZR1TFyW"
      },
      "source": [
        ""
      ]
    }
  ]
}